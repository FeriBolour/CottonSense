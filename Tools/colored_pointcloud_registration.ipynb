{
 "cells": [
  {
   "cell_type": "markdown",
   "metadata": {},
   "source": [
    "This notebook is heavily adapted from the source below:\n",
    "\n",
    "http://www.open3d.org/docs/release/tutorial/pipelines/colored_pointcloud_registration.html"
   ]
  },
  {
   "cell_type": "code",
   "execution_count": 1,
   "metadata": {
    "ExecuteTime": {
     "end_time": "2022-11-18T07:31:41.766716Z",
     "start_time": "2022-11-18T07:31:38.085655Z"
    },
    "nbsphinx": "hidden"
   },
   "outputs": [
    {
     "name": "stdout",
     "output_type": "stream",
     "text": [
      "Jupyter environment detected. Enabling Open3D WebVisualizer.\n",
      "[Open3D INFO] WebRTC GUI backend enabled.\n",
      "[Open3D INFO] WebRTCWindowSystem: HTTP handshake server disabled.\n"
     ]
    }
   ],
   "source": [
    "import open3d as o3d\n",
    "import numpy as np\n",
    "import copy\n",
    "import os\n",
    "import sys\n"
   ]
  },
  {
   "cell_type": "markdown",
   "metadata": {},
   "source": [
    "# Colored point cloud registration\n",
    "This tutorial demonstrates an ICP variant that uses both geometry and color for registration. It implements the algorithm of [\\[Park2017\\]](../reference.html#park2017). The color information locks the alignment along the tangent plane. Thus this algorithm is more accurate and more robust than prior point cloud registration algorithms, while the running speed is comparable to that of ICP registration. This tutorial uses notations from [ICP registration](../pipelines/icp_registration.ipynb)."
   ]
  },
  {
   "cell_type": "markdown",
   "metadata": {},
   "source": [
    "## Helper visualization function\n",
    "In order to demonstrate the alignment between colored point clouds, `draw_registration_result_original_color` renders point clouds with their original color."
   ]
  },
  {
   "cell_type": "code",
   "execution_count": 2,
   "metadata": {
    "ExecuteTime": {
     "end_time": "2022-11-18T07:31:41.777349Z",
     "start_time": "2022-11-18T07:31:41.770215Z"
    }
   },
   "outputs": [],
   "source": [
    "def draw_registration_result_original_color(source, target, transformation):\n",
    "    source_temp = copy.deepcopy(source)\n",
    "    source_temp.transform(transformation)\n",
    "    o3d.visualization.draw_geometries([source_temp, target],\n",
    "                                      zoom=0.5,\n",
    "                                      front=[-0.2458, -0.8088, 0.5342],\n",
    "                                      lookat=[1.7745, 2.2305, 0.9787],\n",
    "                                      up=[0.3109, -0.5878, -0.7468])"
   ]
  },
  {
   "cell_type": "markdown",
   "metadata": {},
   "source": [
    "## Input\n",
    "The code below reads a source point cloud and a target point cloud from two files. An identity matrix is used as initialization for the registration."
   ]
  },
  {
   "cell_type": "code",
   "execution_count": 16,
   "metadata": {
    "ExecuteTime": {
     "end_time": "2022-11-18T07:59:23.836271Z",
     "start_time": "2022-11-18T07:59:06.992756Z"
    }
   },
   "outputs": [
    {
     "name": "stdout",
     "output_type": "stream",
     "text": [
      "1. Load two point clouds and show initial pose\n",
      "PointCloud with 22170906 points.\n",
      "PointCloud with 17337453 points.\n"
     ]
    }
   ],
   "source": [
    "print(\"1. Load two point clouds and show initial pose\")\n",
    "\n",
    "#source = o3d.io.read_point_cloud('/home/farshad/Documents/Cotton Imaging/18_17/Top Camera/18_17_top_Clean.ply')\n",
    "#target = o3d.io.read_point_cloud('/home/farshad/Documents/Cotton Imaging/18_17/Bottom Camera/18_17_bot _Clean.ply')\n",
    "\n",
    "target = o3d.io.read_point_cloud('/home/farshad/Documents/RTAB-Map/18_17_top_Clean.ply')\n",
    "source = o3d.io.read_point_cloud('/home/farshad/Documents/RTAB-Map/18_17_bot _Clean.ply')\n",
    "\n",
    "# draw initial alignment\n",
    "# current_transformation = np.identity(4)\n",
    "\n",
    "current_tranformation = np.array([[1, 0, 0, 0],\n",
    "                                  [0, 1, 0, 0.15],\n",
    "                                  [0, 0, 1, 0],\n",
    "                                  [0, 0, 0, 1]])\n",
    "\n",
    "# current_tranformation = np.array([[1, 0, 0, 0],\n",
    "#                                   [0, 1, 0, 0.15],\n",
    "#                                   [0, 0, 1, 0],\n",
    "#                                   [0, 0, 0, 1]])\n",
    "\n",
    "#draw_registration_result_original_color(source, target, current_transformation)\n",
    "print(source)\n",
    "print(target)"
   ]
  },
  {
   "cell_type": "markdown",
   "metadata": {},
   "source": [
    "## Colored point cloud registration\n",
    "The core function for colored point cloud registration is `registration_colored_icp`. Following [\\[Park2017\\]](../reference.html#park2017), it runs ICP iterations (see [Point-to-point ICP](../pipelines/icp_registration.ipynb#Point-to-point-ICP) for details) with a joint optimization objective\n",
    "\n",
    "\\begin{equation}\n",
    "E(\\mathbf{T}) = (1-\\delta)E_{C}(\\mathbf{T}) + \\delta E_{G}(\\mathbf{T})\n",
    "\\end{equation}\n",
    "\n",
    "where $\\mathbf{T}$ is the transformation matrix to be estimated. $E_{C}$ and $E_{G}$ are the photometric and geometric terms, respectively. $\\delta\\in[0,1]$ is a weight parameter that has been determined empirically.\n",
    "\n",
    "The geometric term $E_{G}$ is the same as the [Point-to-plane ICP](../pipelines/icp_registration.ipynb#Point-to-plane-ICP) objective\n",
    "\n",
    "\\begin{equation}\n",
    "E_{G}(\\mathbf{T}) = \\sum_{(\\mathbf{p},\\mathbf{q})\\in\\mathcal{K}}\\big((\\mathbf{p} - \\mathbf{T}\\mathbf{q})\\cdot\\mathbf{n}_{\\mathbf{p}}\\big)^{2},\n",
    "\\end{equation}\n",
    "\n",
    "where $\\mathcal{K}$ is the correspondence set in the current iteration. $\\mathbf{n}_{\\mathbf{p}}$ is the normal of point $\\mathbf{p}$.\n",
    "\n",
    "The color term $E_{C}$ measures the difference between the color of point $\\mathbf{q}$ (denoted as $C(\\mathbf{q})$) and the color of its projection on the tangent plane of $\\mathbf{p}$.\n",
    "\n",
    "\\begin{equation}\n",
    "E_{C}(\\mathbf{T}) = \\sum_{(\\mathbf{p},\\mathbf{q})\\in\\mathcal{K}}\\big(C_{\\mathbf{p}}(\\mathbf{f}(\\mathbf{T}\\mathbf{q})) - C(\\mathbf{q})\\big)^{2},\n",
    "\\end{equation}\n",
    "\n",
    "where $C_{\\mathbf{p}}(\\cdot)$ is a precomputed function continuously defined on the tangent plane of $\\mathbf{p}$. Function$\\mathbf{f}(\\cdot)$ projects a 3D point to the tangent plane. For more details, refer to [\\[Park2017\\]](../reference.html#park2017).\n",
    "\n",
    "To further improve efficiency, [\\[Park2017\\]](../reference.html#park2017) proposes a multi-scale registration scheme. This has been implemented in the following script."
   ]
  },
  {
   "cell_type": "code",
   "execution_count": 17,
   "metadata": {
    "ExecuteTime": {
     "end_time": "2022-11-18T08:00:07.317545Z",
     "start_time": "2022-11-18T07:59:28.351524Z"
    }
   },
   "outputs": [
    {
     "name": "stdout",
     "output_type": "stream",
     "text": [
      "3. Colored point cloud registration\n",
      "[15000, 0.06, 0]\n",
      "3-1. Downsample with a voxel size 0.06\n",
      "3-2. Estimate normal.\n",
      "3-3. Applying colored point cloud registration\n",
      "RegistrationResult with fitness=6.709556e-01, inlier_rmse=3.251229e-02, and correspondence_set size of 3911\n",
      "Access transformation to get result.\n",
      "[10000, 0.05, 1]\n",
      "3-1. Downsample with a voxel size 0.05\n",
      "3-2. Estimate normal.\n",
      "3-3. Applying colored point cloud registration\n",
      "RegistrationResult with fitness=6.163793e-01, inlier_rmse=2.794446e-02, and correspondence_set size of 5005\n",
      "Access transformation to get result.\n",
      "[5000, 0.04, 2]\n",
      "3-1. Downsample with a voxel size 0.04\n",
      "3-2. Estimate normal.\n",
      "3-3. Applying colored point cloud registration\n",
      "RegistrationResult with fitness=5.430218e-01, inlier_rmse=2.236283e-02, and correspondence_set size of 6595\n",
      "Access transformation to get result.\n",
      "[3500, 0.03, 3]\n",
      "3-1. Downsample with a voxel size 0.03\n",
      "3-2. Estimate normal.\n",
      "3-3. Applying colored point cloud registration\n",
      "RegistrationResult with fitness=4.649703e-01, inlier_rmse=1.715456e-02, and correspondence_set size of 9630\n",
      "Access transformation to get result.\n",
      "[1500, 0.02, 4]\n",
      "3-1. Downsample with a voxel size 0.02\n",
      "3-2. Estimate normal.\n",
      "3-3. Applying colored point cloud registration\n",
      "RegistrationResult with fitness=3.638789e-01, inlier_rmse=1.165900e-02, and correspondence_set size of 16503\n",
      "Access transformation to get result.\n",
      "[1000, 0.01, 5]\n",
      "3-1. Downsample with a voxel size 0.01\n",
      "3-2. Estimate normal.\n",
      "3-3. Applying colored point cloud registration\n",
      "RegistrationResult with fitness=2.553762e-01, inlier_rmse=5.903523e-03, and correspondence_set size of 49152\n",
      "Access transformation to get result.\n"
     ]
    }
   ],
   "source": [
    "# colored pointcloud registration\n",
    "# This is implementation of following paper\n",
    "# J. Park, Q.-Y. Zhou, V. Koltun,\n",
    "# Colored Point Cloud Registration Revisited, ICCV 2017\n",
    "#voxel_radius = [0.04, 0.02, 0.01]\n",
    "voxel_radius = [0.06, 0.05, 0.04, 0.03, 0.02, 0.01]\n",
    "max_iter = [15000, 10000, 5000, 3500, 1500, 1000]\n",
    "\n",
    "print(\"3. Colored point cloud registration\")\n",
    "for scale in range(6):\n",
    "    iter = max_iter[scale]\n",
    "    radius = voxel_radius[scale]\n",
    "    print([iter, radius, scale])\n",
    "\n",
    "    print(\"3-1. Downsample with a voxel size %.2f\" % radius)\n",
    "    source_down = source.voxel_down_sample(radius)\n",
    "    target_down = target.voxel_down_sample(radius)\n",
    "\n",
    "    print(\"3-2. Estimate normal.\")\n",
    "    source_down.estimate_normals(\n",
    "        o3d.geometry.KDTreeSearchParamHybrid(radius=radius * 2, max_nn=30))\n",
    "    target_down.estimate_normals(\n",
    "        o3d.geometry.KDTreeSearchParamHybrid(radius=radius * 2, max_nn=30))\n",
    "\n",
    "    print(\"3-3. Applying colored point cloud registration\")\n",
    "    result_icp = o3d.pipelines.registration.registration_colored_icp(\n",
    "        source_down, target_down, radius, current_transformation,\n",
    "        o3d.pipelines.registration.TransformationEstimationForColoredICP(),\n",
    "        o3d.pipelines.registration.ICPConvergenceCriteria(relative_fitness=1e-6,\n",
    "                                                          relative_rmse=1e-6,\n",
    "                                                          max_iteration=iter))\n",
    "    current_transformation = result_icp.transformation\n",
    "    print(result_icp)\n",
    "#draw_registration_result_original_color(source, target,\n",
    "#                                        result_icp.transformation)"
   ]
  },
  {
   "cell_type": "code",
   "execution_count": 8,
   "metadata": {
    "ExecuteTime": {
     "end_time": "2022-11-18T07:34:36.872893Z",
     "start_time": "2022-11-18T07:34:36.848535Z"
    }
   },
   "outputs": [
    {
     "data": {
      "text/plain": [
       "array([[ 0.99125198,  0.13185895, -0.00572154, -0.27515386],\n",
       "       [-0.13154371,  0.99055784,  0.038619  ,  0.07375823],\n",
       "       [ 0.01075978, -0.03752853,  0.99923763, -0.1889511 ],\n",
       "       [ 0.        ,  0.        ,  0.        ,  1.        ]])"
      ]
     },
     "execution_count": 8,
     "metadata": {},
     "output_type": "execute_result"
    }
   ],
   "source": [
    "current_transformation"
   ]
  },
  {
   "cell_type": "markdown",
   "metadata": {},
   "source": [
    "In total, 3 layers of multi-resolution point clouds are created with `voxel_down_sample`. Normals are computed with vertex normal estimation. The core registration function `registration_colored_icp` is called for each layer, from coarse to fine. `lambda_geometric` is an optional argument for `registration_colored_icp` that determines $\\lambda \\in [0, 1]$ in the overall energy $\\lambda E_{G} + (1-\\lambda) E_{C}$.\n",
    "\n",
    "The output is a tight alignment of the two point clouds. Notice the green triangles on the wall."
   ]
  },
  {
   "cell_type": "markdown",
   "metadata": {},
   "source": [
    "## Make a combined point cloud\n",
    "`PointCloud` has a convenience operator `+` that can merge two point clouds into a single one. In the code below, the points are uniformly resampled using `voxel_down_sample` after merging. This is recommended post-processing after merging point clouds since it can relieve duplicated or over-densified points."
   ]
  },
  {
   "cell_type": "code",
   "execution_count": 18,
   "metadata": {
    "ExecuteTime": {
     "end_time": "2022-11-18T08:00:32.136190Z",
     "start_time": "2022-11-18T08:00:07.326508Z"
    }
   },
   "outputs": [
    {
     "data": {
      "text/plain": [
       "True"
      ]
     },
     "execution_count": 18,
     "metadata": {},
     "output_type": "execute_result"
    }
   ],
   "source": [
    "source_temp = copy.deepcopy(source)\n",
    "source_temp.transform(result_icp.transformation)\n",
    "pcd_combined = source_temp + target\n",
    "#pcd_combined_down = pcd_combined.voxel_down_sample(voxel_size=0.002)\n",
    "o3d.io.write_point_cloud('/home/farshad/Documents/RTAB-Map/18_17_combined_1.ply', pcd_combined)"
   ]
  },
  {
   "cell_type": "code",
   "execution_count": null,
   "metadata": {},
   "outputs": [],
   "source": []
  }
 ],
 "metadata": {
  "celltoolbar": "Edit Metadata",
  "kernelspec": {
   "display_name": "Python 3 (ipykernel)",
   "language": "python",
   "name": "python3"
  },
  "language_info": {
   "codemirror_mode": {
    "name": "ipython",
    "version": 3
   },
   "file_extension": ".py",
   "mimetype": "text/x-python",
   "name": "python",
   "nbconvert_exporter": "python",
   "pygments_lexer": "ipython3",
   "version": "3.8.8"
  },
  "toc": {
   "base_numbering": 1,
   "nav_menu": {},
   "number_sections": true,
   "sideBar": true,
   "skip_h1_title": false,
   "title_cell": "Table of Contents",
   "title_sidebar": "Contents",
   "toc_cell": false,
   "toc_position": {},
   "toc_section_display": true,
   "toc_window_display": false
  }
 },
 "nbformat": 4,
 "nbformat_minor": 2
}
